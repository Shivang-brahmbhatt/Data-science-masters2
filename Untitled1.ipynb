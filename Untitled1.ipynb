{
 "cells": [
  {
   "cell_type": "code",
   "execution_count": null,
   "id": "bfd37201-d59a-46f2-b32d-e14eab0dd8fa",
   "metadata": {},
   "outputs": [
    {
     "name": "stdout",
     "output_type": "stream",
     "text": [
      "my name is shivang barot my age is 32 and my degree is BE\n"
     ]
    }
   ],
   "source": [
    "name=\"shivang barot\"\n",
    "age=32\n",
    "degree=\"BE\"\n",
    "\n",
    "print(\"my name is {} my age is {} and my degree is {}\".format(name,age,degree))\n",
    "    "
   ]
  },
  {
   "cell_type": "code",
   "execution_count": 4,
   "id": "637f5240-87e1-4845-9d4c-6c99285d404c",
   "metadata": {},
   "outputs": [
    {
     "name": "stdin",
     "output_type": "stream",
     "text": [
      "enter your age 56\n"
     ]
    },
    {
     "name": "stdout",
     "output_type": "stream",
     "text": [
      "please enter the valid digit\n"
     ]
    }
   ],
   "source": [
    "age=int(input(\"enter your age\"))\n",
    "if age>=18 and age <=42:\n",
    "    print(\"you are a young blood\")\n",
    "    \n",
    "else:\n",
    "    print(\"please enter the valid digit\")"
   ]
  },
  {
   "cell_type": "code",
   "execution_count": 2,
   "id": "4fe4c33e-b002-46d1-b638-1c3cc2429f83",
   "metadata": {},
   "outputs": [
    {
     "name": "stdin",
     "output_type": "stream",
     "text": [
      "enter the product price 1999\n"
     ]
    },
    {
     "name": "stdout",
     "output_type": "stream",
     "text": [
      "the price of the product is1399.3\n",
      "You will get a additional gift\n"
     ]
    }
   ],
   "source": [
    "product_price=int(input(\"enter the product price\"))\n",
    "if product_price<=1000:\n",
    "    print(\"the price of the product is{}\".format(product_price*0.8))\n",
    "elif product_price<=2000 and product_price>=1000:\n",
    "    print(\"the price of the product is{}\".format(product_price*0.7))\n",
    "    if product_price==1999:\n",
    "        print(\"You will get a additional gift\")\n",
    "elif product_price<=3000 and product_price>=2000:\n",
    "    print(\"the price of the product is{}\".format(product_price*0.6))\n",
    "    if product_price==2999:\n",
    "        print(\"you will get a free goa trip\")\n",
    "else: print(\" lets drink tea\")\n",
    "    \n",
    "    \n",
    "          "
   ]
  },
  {
   "cell_type": "code",
   "execution_count": 2,
   "id": "076ab7c0-ee9f-4a2a-8ae4-880bb35306ad",
   "metadata": {},
   "outputs": [
    {
     "name": "stdout",
     "output_type": "stream",
     "text": [
      "1000\n",
      "900\n",
      "800\n",
      "700\n",
      "600\n",
      "500\n",
      "400\n",
      "300\n",
      "200\n",
      "100\n",
      "paisa bharo bank people\n"
     ]
    }
   ],
   "source": [
    "total_amount=1000\n",
    "while total_amount!=0:\n",
    "    print(total_amount)\n",
    "    total_amount=total_amount-100\n",
    "else:\n",
    "    print(\"paisa bharo bank people\")"
   ]
  },
  {
   "cell_type": "code",
   "execution_count": null,
   "id": "dfa06772-360e-4fb5-bbcd-29787e417c1c",
   "metadata": {},
   "outputs": [],
   "source": []
  },
  {
   "cell_type": "code",
   "execution_count": null,
   "id": "48a88775-4c47-4682-a18c-b0451994e1f9",
   "metadata": {},
   "outputs": [],
   "source": []
  }
 ],
 "metadata": {
  "kernelspec": {
   "display_name": "Python 3 (ipykernel)",
   "language": "python",
   "name": "python3"
  },
  "language_info": {
   "codemirror_mode": {
    "name": "ipython",
    "version": 3
   },
   "file_extension": ".py",
   "mimetype": "text/x-python",
   "name": "python",
   "nbconvert_exporter": "python",
   "pygments_lexer": "ipython3",
   "version": "3.10.8"
  }
 },
 "nbformat": 4,
 "nbformat_minor": 5
}
